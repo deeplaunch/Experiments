{
 "cells": [
  {
   "cell_type": "code",
   "execution_count": 2,
   "metadata": {},
   "outputs": [],
   "source": [
    "import numpy as np"
   ]
  },
  {
   "cell_type": "code",
   "execution_count": 3,
   "metadata": {},
   "outputs": [],
   "source": [
    "# %load a_star.py\n",
    "# Finish A* search function that can find path from starting point to the end\n",
    "# The robot starts from start position (0,0) and finds a path to end position (4, 5)\n",
    "# In the maze, 0 is open path while 1 means wall (a robot cannot pass through wall)\n",
    "# please write your heuristic matrix, and fill unvisited position with -1,\n",
    "# cost of each movement is 1, as shown in the example below\n",
    "\n",
    "# the maze robot need to find a path\n",
    "maze = [[0, 1, 0, 0, 0, 0],\n",
    "        [0, 1, 0, 0, 0, 0],\n",
    "        [0, 1, 0, 0, 0, 0],\n",
    "        [0, 1, 0, 0, 0, 0],\n",
    "        [0, 0, 0, 0, 1, 0]]\n",
    "\n",
    "# example result:\n",
    "# [[0, -1, -1, -1, -1, -1],\n",
    "#  [1, -1, -1, -1, -1, -1],\n",
    "#  [2, -1, -1, -1, -1, -1],\n",
    "#  [3, -1,  8, 10, 12, 14],\n",
    "#  [4,  5,  6,  7, -1, 15]]\n",
    "\n",
    "### 1. make your own heuristic\n",
    "heuristic = [[0, 0, 0, 0, 1, 0],\n",
    "             [0, 0, 1, 0, 0, 1],\n",
    "             [1, 1, 0, 1, 0, 0],\n",
    "             [0, 0, 0, 0, 1, 0],\n",
    "             [0, 0, 0, 0, 0, 0]]"
   ]
  },
  {
   "cell_type": "code",
   "execution_count": 6,
   "metadata": {},
   "outputs": [],
   "source": [
    "def get_matrix(maze_new, idx, move_mat, cost):\n",
    "    '''recursive function that returns the matrix of next move\n",
    "    '''\n",
    "    mz = maze_new\n",
    "    c = cost + 1\n",
    "    \n",
    "    # if reach destination, simply return maze\n",
    "    if np.array_equal(idx, np.array(maze_new.shape) - 2):\n",
    "        mz[idx[0],idx[1]] = c\n",
    "        return mz, c\n",
    "    \n",
    "    # otherwise, scan for path not blocked by wall, and prioritize the path least travelled so far\n",
    "    around_mat = idx + move_mat\n",
    "    around_maze_v = [mz[i[0],i[1]] for i in around_mat]\n",
    "    option = [i for i in around_mat[np.argsort(np.array(around_maze_v))] if maze_new[i[0],i[1]]!= -1]\n",
    "    \n",
    "    # iterate over options until destination is found\n",
    "    for opt in option:\n",
    "        mz[idx[0],idx[1]] = c\n",
    "        # print(mz)\n",
    "        mz, c = get_matrix(maze_new = mz, idx = opt, move_mat = move_mat, cost = c) \n",
    "        if mz[-2,-2] != 0:\n",
    "            return mz, c\n",
    "\n",
    "### 2. finish the A* search funciton below\n",
    "def search(maze, start, end, cost, heuristic):\n",
    "    \n",
    "    # pad maze with boundary walls\n",
    "    maze0 = np.pad(np.array(maze) *(-1),((1,1),(1,1)),'constant', constant_values=-1)\n",
    "    # print(maze0)\n",
    "\n",
    "    # initialize variables\n",
    "    start = [1, 1] # starting position\n",
    "    end = [-2,-2] # ending position\n",
    "    cost0 = 0\n",
    "\n",
    "    idx0 = np.array(start)\n",
    "\n",
    "    # define moves\n",
    "    move_down = [1, 0]  # go down\n",
    "    move_right = [0, 1] # go right\n",
    "    move_up = [-1, 0]   # go up\n",
    "    move_left = [0, -1] # go left\n",
    "    move_mat = [np.array(i) for i in [move_down, move_right, move_up, move_left]]\n",
    "\n",
    "    returned_maze, total_cost = get_matrix(maze_new = maze0, idx = idx0, move_mat = move_mat, cost = cost0)\n",
    "    \n",
    "    # get rid of walls and replace non-travelled paths with -1\n",
    "    final_maze = returned_maze[1:-1,1:-1]\n",
    "    final_maze[final_maze <=0] = -1\n",
    "    final_maze\n",
    "    \n",
    "    return final_maze"
   ]
  },
  {
   "cell_type": "code",
   "execution_count": 7,
   "metadata": {},
   "outputs": [
    {
     "data": {
      "text/plain": [
       "array([[ 1,  4,  5,  6, -1, -1],\n",
       "       [ 2,  3, -1,  7,  8, -1],\n",
       "       [-1, -1, -1, -1,  9, 10],\n",
       "       [-1, -1, -1, -1, -1, 11],\n",
       "       [-1, -1, -1, -1, -1, 12]])"
      ]
     },
     "execution_count": 7,
     "metadata": {},
     "output_type": "execute_result"
    }
   ],
   "source": [
    "search(maze = heuristic, start = [1,1], end = [-2,-2], cost=1, heuristic=heuristic)"
   ]
  }
 ],
 "metadata": {
  "kernelspec": {
   "display_name": "Python 3",
   "language": "python",
   "name": "python3"
  },
  "language_info": {
   "codemirror_mode": {
    "name": "ipython",
    "version": 3
   },
   "file_extension": ".py",
   "mimetype": "text/x-python",
   "name": "python",
   "nbconvert_exporter": "python",
   "pygments_lexer": "ipython3",
   "version": "3.7.1"
  }
 },
 "nbformat": 4,
 "nbformat_minor": 2
}
