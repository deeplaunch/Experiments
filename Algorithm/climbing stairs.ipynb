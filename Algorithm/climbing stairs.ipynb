{
 "cells": [
  {
   "cell_type": "code",
   "execution_count": 2,
   "metadata": {},
   "outputs": [],
   "source": [
    "import numpy as np"
   ]
  },
  {
   "cell_type": "code",
   "execution_count": 11,
   "metadata": {},
   "outputs": [
    {
     "data": {
      "text/plain": [
       "8"
      ]
     },
     "execution_count": 11,
     "metadata": {},
     "output_type": "execute_result"
    }
   ],
   "source": [
    "def get_climb(n):\n",
    "    '''solve using recursive method working backwards\n",
    "    '''\n",
    "    # if 1, return 1 as there is only one way to get to 1 and next step\n",
    "    # if 0, return 1 as there is only one way to get to next step\n",
    "    if n == 0:\n",
    "        return 1\n",
    "    elif n == 1:\n",
    "        return 1\n",
    "    else:\n",
    "        return get_climb(n-1) + get_climb(n-2) \n",
    "    \n",
    "get_climb(1)\n",
    "get_climb(2)\n",
    "get_climb(4)\n",
    "get_climb(5)"
   ]
  },
  {
   "cell_type": "code",
   "execution_count": 10,
   "metadata": {},
   "outputs": [
    {
     "data": {
      "text/plain": [
       "10"
      ]
     },
     "execution_count": 10,
     "metadata": {},
     "output_type": "execute_result"
    }
   ],
   "source": [
    "def get_climb_multiple(n, l):\n",
    "    \n",
    "    '''n: ending stairs, l: np-array of allowed steps '''\n",
    "    '''trick is not to allow anything to go negative'''\n",
    "    \n",
    "    result = 0\n",
    "    \n",
    "    if (n == 0):\n",
    "        result = 1\n",
    "    elif n < 0:\n",
    "        result = 0\n",
    "    else:\n",
    "        for m in l:\n",
    "            result = result + get_climb_multiple(n-m, l)\n",
    "            \n",
    "    return result\n",
    "    \n",
    "get_climb_multiple(n = 4, l = np.array([1,2]))\n",
    "get_climb_multiple(n = 4, l = np.array([1,2,4]))\n",
    "get_climb_multiple(n = 5, l = np.array([1,2,4]))"
   ]
  }
 ],
 "metadata": {
  "kernelspec": {
   "display_name": "Python 3",
   "language": "python",
   "name": "python3"
  },
  "language_info": {
   "codemirror_mode": {
    "name": "ipython",
    "version": 3
   },
   "file_extension": ".py",
   "mimetype": "text/x-python",
   "name": "python",
   "nbconvert_exporter": "python",
   "pygments_lexer": "ipython3",
   "version": "3.5.5"
  }
 },
 "nbformat": 4,
 "nbformat_minor": 2
}
